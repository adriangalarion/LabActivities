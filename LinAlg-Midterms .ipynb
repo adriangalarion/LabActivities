{
 "cells": [
  {
   "cell_type": "markdown",
   "metadata": {},
   "source": [
    "<h1>Linear Algebra (CpE210A)"
   ]
  },
  {
   "cell_type": "markdown",
   "metadata": {},
   "source": [
    "<h3>Midterms Project"
   ]
  },
  {
   "cell_type": "markdown",
   "metadata": {},
   "source": [
    "Coded and submitted by:<br>\n",
    "<i>Galarion, Adrian Q.<br>\n",
    "    201814169 <br>\n",
    "   CpE210A </i>\n",
    "  "
   ]
  },
  {
   "cell_type": "markdown",
   "metadata": {},
   "source": [
    "Directions\n",
    "This Jupyter Notebook will serve as your base code for your Midterm Project. You must further format and provide complete discussion on the given topic. \n",
    "- Provide all necessary explanations for specific code blocks. \n",
    "- Provide illustrations for key results.\n",
    "- Observe clean code (intuitive variable names, proper commenting, proper code spacing)\n",
    "- Provide a summary discussion at the end\n",
    "\n",
    "Failure to use this format or failure to update the document will be given a deduction equivalent to 50% of the original score. "
   ]
  },
  {
   "cell_type": "markdown",
   "metadata": {},
   "source": [
    "### Case"
   ]
  },
  {
   "cell_type": "markdown",
   "metadata": {},
   "source": [
    "Bebang is back to consult you about her business. Furthering her data analytics initiative she asks you for help to compute some relevant data. Now she is asking you to compute and visualize her sales and costs for the past year. She has given you the datasets attached to her request."
   ]
  },
  {
   "cell_type": "markdown",
   "metadata": {},
   "source": [
    "### Problem"
   ]
  },
  {
   "cell_type": "markdown",
   "metadata": {},
   "source": [
    "State and explain Bebang's problem here and provide the deliverables.\n",
    "\n",
    "Bebang's problems is to compute and visualize her sales and costs for the past year. Reshape the price and cost data to a shape of (12,1). next is to compute the monthly revenue, monthly cost, and monthly profit using the given formulas. next is to compute the revenue, cost, and profit for each flavor then after that identify the top 3 best flavors and the top 3 worst flavors by sorting the yearly sales of each flavor."
   ]
  },
  {
   "cell_type": "markdown",
   "metadata": {},
   "source": [
    "# Proof of Concept"
   ]
  },
  {
   "cell_type": "markdown",
   "metadata": {},
   "source": [
    "Now that you have a grasp on the requirements we need to start with making a program to prove that her problem is solvable. As a Linear Algebra student, we will be focusin on applying vector operations to meet her needs. First, we need to import her data. We will use the `pandas` library for this. For more information you can look into their documentation [here](https://pandas.pydata.org/)."
   ]
  },
  {
   "cell_type": "code",
   "execution_count": 4,
   "metadata": {},
   "outputs": [],
   "source": [
    "#libraries\n",
    "import matplotlib.pyplot as plt\n",
    "import matplotlib\n",
    "import seaborn as sns\n",
    "import numpy as np\n",
    "import pandas as pd\n",
    "\n",
    "%matplotlib inline"
   ]
  },
  {
   "cell_type": "code",
   "execution_count": 5,
   "metadata": {},
   "outputs": [],
   "source": [
    "\n",
    "#Bebang's Data\n",
    "df_prices = pd.read_csv(r'C:\\Users\\EYY._.giee\\Downloads\\bebang-prices.csv')\n",
    "df_sales = pd.read_csv(r'C:\\Users\\EYY._.giee\\Downloads\\bebang-sales.csv')"
   ]
  },
  {
   "cell_type": "code",
   "execution_count": 7,
   "metadata": {},
   "outputs": [
    {
     "data": {
      "text/html": [
       "<div>\n",
       "<style scoped>\n",
       "    .dataframe tbody tr th:only-of-type {\n",
       "        vertical-align: middle;\n",
       "    }\n",
       "\n",
       "    .dataframe tbody tr th {\n",
       "        vertical-align: top;\n",
       "    }\n",
       "\n",
       "    .dataframe thead th {\n",
       "        text-align: right;\n",
       "    }\n",
       "</style>\n",
       "<table border=\"1\" class=\"dataframe\">\n",
       "  <thead>\n",
       "    <tr style=\"text-align: right;\">\n",
       "      <th></th>\n",
       "      <th>flavor</th>\n",
       "      <th>january</th>\n",
       "      <th>february</th>\n",
       "      <th>march</th>\n",
       "      <th>april</th>\n",
       "      <th>may</th>\n",
       "      <th>june</th>\n",
       "      <th>july</th>\n",
       "      <th>august</th>\n",
       "      <th>september</th>\n",
       "      <th>october</th>\n",
       "      <th>november</th>\n",
       "      <th>december</th>\n",
       "    </tr>\n",
       "  </thead>\n",
       "  <tbody>\n",
       "    <tr>\n",
       "      <th>0</th>\n",
       "      <td>red velvet</td>\n",
       "      <td>781</td>\n",
       "      <td>524</td>\n",
       "      <td>364</td>\n",
       "      <td>157</td>\n",
       "      <td>894</td>\n",
       "      <td>56</td>\n",
       "      <td>89</td>\n",
       "      <td>41</td>\n",
       "      <td>23</td>\n",
       "      <td>78</td>\n",
       "      <td>231</td>\n",
       "      <td>899</td>\n",
       "    </tr>\n",
       "    <tr>\n",
       "      <th>1</th>\n",
       "      <td>oreo</td>\n",
       "      <td>210</td>\n",
       "      <td>324</td>\n",
       "      <td>344</td>\n",
       "      <td>32</td>\n",
       "      <td>123</td>\n",
       "      <td>1</td>\n",
       "      <td>3</td>\n",
       "      <td>0</td>\n",
       "      <td>1</td>\n",
       "      <td>6</td>\n",
       "      <td>312</td>\n",
       "      <td>548</td>\n",
       "    </tr>\n",
       "    <tr>\n",
       "      <th>2</th>\n",
       "      <td>sugar glazed</td>\n",
       "      <td>599</td>\n",
       "      <td>674</td>\n",
       "      <td>854</td>\n",
       "      <td>14</td>\n",
       "      <td>467</td>\n",
       "      <td>78</td>\n",
       "      <td>36</td>\n",
       "      <td>48</td>\n",
       "      <td>75</td>\n",
       "      <td>98</td>\n",
       "      <td>781</td>\n",
       "      <td>1602</td>\n",
       "    </tr>\n",
       "    <tr>\n",
       "      <th>3</th>\n",
       "      <td>almond honey</td>\n",
       "      <td>124</td>\n",
       "      <td>112</td>\n",
       "      <td>114</td>\n",
       "      <td>23</td>\n",
       "      <td>198</td>\n",
       "      <td>12</td>\n",
       "      <td>32</td>\n",
       "      <td>41</td>\n",
       "      <td>23</td>\n",
       "      <td>36</td>\n",
       "      <td>300</td>\n",
       "      <td>566</td>\n",
       "    </tr>\n",
       "    <tr>\n",
       "      <th>4</th>\n",
       "      <td>matcha</td>\n",
       "      <td>645</td>\n",
       "      <td>498</td>\n",
       "      <td>885</td>\n",
       "      <td>98</td>\n",
       "      <td>177</td>\n",
       "      <td>98</td>\n",
       "      <td>43</td>\n",
       "      <td>96</td>\n",
       "      <td>26</td>\n",
       "      <td>71</td>\n",
       "      <td>549</td>\n",
       "      <td>897</td>\n",
       "    </tr>\n",
       "    <tr>\n",
       "      <th>5</th>\n",
       "      <td>strawberry cream</td>\n",
       "      <td>210</td>\n",
       "      <td>372</td>\n",
       "      <td>369</td>\n",
       "      <td>78</td>\n",
       "      <td>163</td>\n",
       "      <td>26</td>\n",
       "      <td>45</td>\n",
       "      <td>22</td>\n",
       "      <td>54</td>\n",
       "      <td>41</td>\n",
       "      <td>207</td>\n",
       "      <td>456</td>\n",
       "    </tr>\n",
       "    <tr>\n",
       "      <th>6</th>\n",
       "      <td>brown sugar boba</td>\n",
       "      <td>981</td>\n",
       "      <td>380</td>\n",
       "      <td>154</td>\n",
       "      <td>14</td>\n",
       "      <td>147</td>\n",
       "      <td>15</td>\n",
       "      <td>98</td>\n",
       "      <td>33</td>\n",
       "      <td>23</td>\n",
       "      <td>36</td>\n",
       "      <td>552</td>\n",
       "      <td>633</td>\n",
       "    </tr>\n",
       "    <tr>\n",
       "      <th>7</th>\n",
       "      <td>furits and nuts</td>\n",
       "      <td>478</td>\n",
       "      <td>462</td>\n",
       "      <td>354</td>\n",
       "      <td>49</td>\n",
       "      <td>89</td>\n",
       "      <td>0</td>\n",
       "      <td>1</td>\n",
       "      <td>0</td>\n",
       "      <td>1</td>\n",
       "      <td>8</td>\n",
       "      <td>335</td>\n",
       "      <td>214</td>\n",
       "    </tr>\n",
       "    <tr>\n",
       "      <th>8</th>\n",
       "      <td>dark chocolate</td>\n",
       "      <td>598</td>\n",
       "      <td>203</td>\n",
       "      <td>36</td>\n",
       "      <td>96</td>\n",
       "      <td>789</td>\n",
       "      <td>4</td>\n",
       "      <td>5</td>\n",
       "      <td>0</td>\n",
       "      <td>8</td>\n",
       "      <td>0</td>\n",
       "      <td>789</td>\n",
       "      <td>458</td>\n",
       "    </tr>\n",
       "    <tr>\n",
       "      <th>9</th>\n",
       "      <td>chocolate and orange</td>\n",
       "      <td>324</td>\n",
       "      <td>123</td>\n",
       "      <td>48</td>\n",
       "      <td>32</td>\n",
       "      <td>65</td>\n",
       "      <td>74</td>\n",
       "      <td>78</td>\n",
       "      <td>45</td>\n",
       "      <td>89</td>\n",
       "      <td>100</td>\n",
       "      <td>632</td>\n",
       "      <td>231</td>\n",
       "    </tr>\n",
       "    <tr>\n",
       "      <th>10</th>\n",
       "      <td>choco mint</td>\n",
       "      <td>458</td>\n",
       "      <td>412</td>\n",
       "      <td>78</td>\n",
       "      <td>78</td>\n",
       "      <td>78</td>\n",
       "      <td>7</td>\n",
       "      <td>3</td>\n",
       "      <td>8</td>\n",
       "      <td>2</td>\n",
       "      <td>1</td>\n",
       "      <td>323</td>\n",
       "      <td>564</td>\n",
       "    </tr>\n",
       "    <tr>\n",
       "      <th>11</th>\n",
       "      <td>choco butter naught</td>\n",
       "      <td>778</td>\n",
       "      <td>586</td>\n",
       "      <td>645</td>\n",
       "      <td>100</td>\n",
       "      <td>987</td>\n",
       "      <td>63</td>\n",
       "      <td>36</td>\n",
       "      <td>89</td>\n",
       "      <td>78</td>\n",
       "      <td>99</td>\n",
       "      <td>784</td>\n",
       "      <td>2310</td>\n",
       "    </tr>\n",
       "  </tbody>\n",
       "</table>\n",
       "</div>"
      ],
      "text/plain": [
       "                  flavor  january  february  march  april  may  june  july  \\\n",
       "0             red velvet      781       524    364    157  894    56    89   \n",
       "1                   oreo      210       324    344     32  123     1     3   \n",
       "2           sugar glazed      599       674    854     14  467    78    36   \n",
       "3           almond honey      124       112    114     23  198    12    32   \n",
       "4                 matcha      645       498    885     98  177    98    43   \n",
       "5       strawberry cream      210       372    369     78  163    26    45   \n",
       "6       brown sugar boba      981       380    154     14  147    15    98   \n",
       "7        furits and nuts      478       462    354     49   89     0     1   \n",
       "8         dark chocolate      598       203     36     96  789     4     5   \n",
       "9   chocolate and orange      324       123     48     32   65    74    78   \n",
       "10            choco mint      458       412     78     78   78     7     3   \n",
       "11   choco butter naught      778       586    645    100  987    63    36   \n",
       "\n",
       "    august  september  october  november  december  \n",
       "0       41         23       78       231       899  \n",
       "1        0          1        6       312       548  \n",
       "2       48         75       98       781      1602  \n",
       "3       41         23       36       300       566  \n",
       "4       96         26       71       549       897  \n",
       "5       22         54       41       207       456  \n",
       "6       33         23       36       552       633  \n",
       "7        0          1        8       335       214  \n",
       "8        0          8        0       789       458  \n",
       "9       45         89      100       632       231  \n",
       "10       8          2        1       323       564  \n",
       "11      89         78       99       784      2310  "
      ]
     },
     "execution_count": 7,
     "metadata": {},
     "output_type": "execute_result"
    }
   ],
   "source": [
    "df_sales "
   ]
  },
  {
   "cell_type": "code",
   "execution_count": 8,
   "metadata": {},
   "outputs": [
    {
     "data": {
      "text/html": [
       "<div>\n",
       "<style scoped>\n",
       "    .dataframe tbody tr th:only-of-type {\n",
       "        vertical-align: middle;\n",
       "    }\n",
       "\n",
       "    .dataframe tbody tr th {\n",
       "        vertical-align: top;\n",
       "    }\n",
       "\n",
       "    .dataframe thead th {\n",
       "        text-align: right;\n",
       "    }\n",
       "</style>\n",
       "<table border=\"1\" class=\"dataframe\">\n",
       "  <thead>\n",
       "    <tr style=\"text-align: right;\">\n",
       "      <th></th>\n",
       "      <th>Unnamed: 0</th>\n",
       "      <th>red velvet</th>\n",
       "      <th>oreo</th>\n",
       "      <th>sugar glazed</th>\n",
       "      <th>almond honey</th>\n",
       "      <th>matcha</th>\n",
       "      <th>strawberry cream</th>\n",
       "      <th>brown sugar boba</th>\n",
       "      <th>furits and nuts</th>\n",
       "      <th>dark chocolate</th>\n",
       "      <th>chocolate and orange</th>\n",
       "      <th>choco mint</th>\n",
       "      <th>choco butter naught</th>\n",
       "    </tr>\n",
       "  </thead>\n",
       "  <tbody>\n",
       "    <tr>\n",
       "      <th>0</th>\n",
       "      <td>price per piece</td>\n",
       "      <td>35</td>\n",
       "      <td>25</td>\n",
       "      <td>20</td>\n",
       "      <td>35</td>\n",
       "      <td>50</td>\n",
       "      <td>40</td>\n",
       "      <td>40</td>\n",
       "      <td>45</td>\n",
       "      <td>30</td>\n",
       "      <td>40</td>\n",
       "      <td>45</td>\n",
       "      <td>45</td>\n",
       "    </tr>\n",
       "    <tr>\n",
       "      <th>1</th>\n",
       "      <td>cost per piece</td>\n",
       "      <td>25</td>\n",
       "      <td>15</td>\n",
       "      <td>10</td>\n",
       "      <td>20</td>\n",
       "      <td>35</td>\n",
       "      <td>31</td>\n",
       "      <td>30</td>\n",
       "      <td>25</td>\n",
       "      <td>15</td>\n",
       "      <td>25</td>\n",
       "      <td>32</td>\n",
       "      <td>31</td>\n",
       "    </tr>\n",
       "  </tbody>\n",
       "</table>\n",
       "</div>"
      ],
      "text/plain": [
       "        Unnamed: 0  red velvet  oreo  sugar glazed  almond honey  matcha  \\\n",
       "0  price per piece          35    25            20            35      50   \n",
       "1   cost per piece          25    15            10            20      35   \n",
       "\n",
       "   strawberry cream  brown sugar boba  furits and nuts  dark chocolate  \\\n",
       "0                40                40               45              30   \n",
       "1                31                30               25              15   \n",
       "\n",
       "   chocolate and orange  choco mint  choco butter naught  \n",
       "0                    40          45                   45  \n",
       "1                    25          32                   31  "
      ]
     },
     "execution_count": 8,
     "metadata": {},
     "output_type": "execute_result"
    }
   ],
   "source": [
    "df_prices"
   ]
  },
  {
   "cell_type": "markdown",
   "metadata": {},
   "source": [
    "## Part 1: Monthly Sales"
   ]
  },
  {
   "cell_type": "code",
   "execution_count": 9,
   "metadata": {},
   "outputs": [
    {
     "name": "stdout",
     "output_type": "stream",
     "text": [
      "(12, 12)\n",
      "(12, 1)\n",
      "(12, 1)\n"
     ]
    }
   ],
   "source": [
    "sales_mat = np.array(df_sales.set_index('flavor'))\n",
    "prices_mat = np.array(df_prices.set_index('Unnamed: 0'))[0] \n",
    "costs_mat = np.array(df_prices.set_index('Unnamed: 0'))[1]\n",
    "\n",
    "#reshaped price and cost\n",
    "price_reshaped=np.reshape(prices_mat,(12,1))\n",
    "cost_reshaped=np.reshape(costs_mat,(12,1))\n",
    "\n",
    "#display\n",
    "print(sales_mat.shape)\n",
    "print(price_reshaped.shape)\n",
    "print(cost_reshaped.shape)"
   ]
  },
  {
   "cell_type": "markdown",
   "metadata": {},
   "source": [
    "#### Formulas"
   ]
  },
  {
   "cell_type": "markdown",
   "metadata": {},
   "source": [
    "Take note that the fomula for revenue is: <br>\n",
    "$revenue = sales * price $ <br>\n",
    "In this case, think that revenue, sales, and price are vectors instead of individual values <br>\n",
    "The formula of cost per item sold is: <br>\n",
    "$cost_{sold} = sales * cost$ <br>\n",
    "The formula for profit is: <br>\n",
    "$profit = revenue - cost_{sold}$ <br>\n",
    "Solving for the monthly profit will be the sum of all profits made on that month."
   ]
  },
  {
   "cell_type": "code",
   "execution_count": 10,
   "metadata": {},
   "outputs": [],
   "source": [
    "def monthly_sales(price, cost, sales):\n",
    "    \n",
    "    ##computations\n",
    "    monthly_revenue = prices_mat * sales_mat.sum(axis=0)\n",
    "    monthly_costs = costs_mat * sales_mat.sum(axis=0)\n",
    "    monthly_profits = monthly_revenue - costs_mat*sales_mat.sum(axis=0)    \n",
    "    return monthly_revenue.flatten(), monthly_costs.flatten(), monthly_profits.flatten()\n",
    "\n",
    "    "
   ]
  },
  {
   "cell_type": "code",
   "execution_count": 11,
   "metadata": {},
   "outputs": [
    {
     "name": "stdout",
     "output_type": "stream",
     "text": [
      "monthly revenue: \n",
      " [216510 116750  84900  26985 208850  17360  18760  19035  12090  22960\n",
      " 260775 422010] \n",
      "\n",
      "monthly cost:\n",
      " [154650  70050  42450  15420 146195  13454  14070  10575   6045  14350\n",
      " 185440 290718] \n",
      "\n",
      " mothly profits:\n",
      " [ 61860  46700  42450  11565  62655   3906   4690   8460   6045   8610\n",
      "  75335 131292]\n"
     ]
    }
   ],
   "source": [
    "month_rev, month_cost, month_profit = monthly_sales(prices_mat, costs_mat, sales_mat)\n",
    "##print data\n",
    "print('monthly revenue:','\\n',month_rev,'\\n\\nmonthly cost:\\n', month_cost,'\\n\\n','mothly profits:\\n',month_profit)"
   ]
  },
  {
   "cell_type": "markdown",
   "metadata": {},
   "source": [
    "## Part 2: Flavor Sales"
   ]
  },
  {
   "cell_type": "code",
   "execution_count": 12,
   "metadata": {},
   "outputs": [],
   "source": [
    "def flavor_sales(price, cost, sales):\n",
    "     \n",
    "    ##computations \n",
    "    flavor_revenue = sales_mat.sum(axis=1)*prices_mat\n",
    "    flavor_costs = sales_mat.sum(axis=1)*costs_mat\n",
    "    flavor_profits =flavor_revenue - costs_mat*sales_mat.sum(axis=1)\n",
    "    return flavor_profits.flatten()\n",
    "\n"
   ]
  },
  {
   "cell_type": "code",
   "execution_count": 13,
   "metadata": {},
   "outputs": [
    {
     "name": "stdout",
     "output_type": "stream",
     "text": [
      "Flavor Profit:\n",
      " [41370 19040 53260 23715 61245 18387 30660 39820 44790 27615 26156 91770]\n",
      "\n",
      "Flavor Sales:\n",
      " [4137 1904 5326 1581 4083 2043 3066 1991 2986 1841 2012 6555]\n"
     ]
    }
   ],
   "source": [
    "flavor_profit = flavor_sales(prices_mat, costs_mat, sales_mat)\n",
    "##print values \n",
    "print('Flavor Profit:\\n',flavor_profit)\n",
    "print('\\nFlavor Sales:\\n',sales_mat.sum(axis=1))"
   ]
  },
  {
   "cell_type": "code",
   "execution_count": 14,
   "metadata": {},
   "outputs": [
    {
     "data": {
      "text/html": [
       "<div>\n",
       "<style scoped>\n",
       "    .dataframe tbody tr th:only-of-type {\n",
       "        vertical-align: middle;\n",
       "    }\n",
       "\n",
       "    .dataframe tbody tr th {\n",
       "        vertical-align: top;\n",
       "    }\n",
       "\n",
       "    .dataframe thead th {\n",
       "        text-align: right;\n",
       "    }\n",
       "</style>\n",
       "<table border=\"1\" class=\"dataframe\">\n",
       "  <thead>\n",
       "    <tr style=\"text-align: right;\">\n",
       "      <th></th>\n",
       "      <th>flavor</th>\n",
       "      <th>january</th>\n",
       "      <th>february</th>\n",
       "      <th>march</th>\n",
       "      <th>april</th>\n",
       "      <th>may</th>\n",
       "      <th>june</th>\n",
       "      <th>july</th>\n",
       "      <th>august</th>\n",
       "      <th>september</th>\n",
       "      <th>october</th>\n",
       "      <th>november</th>\n",
       "      <th>december</th>\n",
       "      <th>Total_Sales</th>\n",
       "    </tr>\n",
       "  </thead>\n",
       "  <tbody>\n",
       "    <tr>\n",
       "      <th>0</th>\n",
       "      <td>red velvet</td>\n",
       "      <td>781</td>\n",
       "      <td>524</td>\n",
       "      <td>364</td>\n",
       "      <td>157</td>\n",
       "      <td>894</td>\n",
       "      <td>56</td>\n",
       "      <td>89</td>\n",
       "      <td>41</td>\n",
       "      <td>23</td>\n",
       "      <td>78</td>\n",
       "      <td>231</td>\n",
       "      <td>899</td>\n",
       "      <td>4137</td>\n",
       "    </tr>\n",
       "    <tr>\n",
       "      <th>1</th>\n",
       "      <td>oreo</td>\n",
       "      <td>210</td>\n",
       "      <td>324</td>\n",
       "      <td>344</td>\n",
       "      <td>32</td>\n",
       "      <td>123</td>\n",
       "      <td>1</td>\n",
       "      <td>3</td>\n",
       "      <td>0</td>\n",
       "      <td>1</td>\n",
       "      <td>6</td>\n",
       "      <td>312</td>\n",
       "      <td>548</td>\n",
       "      <td>1904</td>\n",
       "    </tr>\n",
       "    <tr>\n",
       "      <th>2</th>\n",
       "      <td>sugar glazed</td>\n",
       "      <td>599</td>\n",
       "      <td>674</td>\n",
       "      <td>854</td>\n",
       "      <td>14</td>\n",
       "      <td>467</td>\n",
       "      <td>78</td>\n",
       "      <td>36</td>\n",
       "      <td>48</td>\n",
       "      <td>75</td>\n",
       "      <td>98</td>\n",
       "      <td>781</td>\n",
       "      <td>1602</td>\n",
       "      <td>5326</td>\n",
       "    </tr>\n",
       "    <tr>\n",
       "      <th>3</th>\n",
       "      <td>almond honey</td>\n",
       "      <td>124</td>\n",
       "      <td>112</td>\n",
       "      <td>114</td>\n",
       "      <td>23</td>\n",
       "      <td>198</td>\n",
       "      <td>12</td>\n",
       "      <td>32</td>\n",
       "      <td>41</td>\n",
       "      <td>23</td>\n",
       "      <td>36</td>\n",
       "      <td>300</td>\n",
       "      <td>566</td>\n",
       "      <td>1581</td>\n",
       "    </tr>\n",
       "    <tr>\n",
       "      <th>4</th>\n",
       "      <td>matcha</td>\n",
       "      <td>645</td>\n",
       "      <td>498</td>\n",
       "      <td>885</td>\n",
       "      <td>98</td>\n",
       "      <td>177</td>\n",
       "      <td>98</td>\n",
       "      <td>43</td>\n",
       "      <td>96</td>\n",
       "      <td>26</td>\n",
       "      <td>71</td>\n",
       "      <td>549</td>\n",
       "      <td>897</td>\n",
       "      <td>4083</td>\n",
       "    </tr>\n",
       "    <tr>\n",
       "      <th>5</th>\n",
       "      <td>strawberry cream</td>\n",
       "      <td>210</td>\n",
       "      <td>372</td>\n",
       "      <td>369</td>\n",
       "      <td>78</td>\n",
       "      <td>163</td>\n",
       "      <td>26</td>\n",
       "      <td>45</td>\n",
       "      <td>22</td>\n",
       "      <td>54</td>\n",
       "      <td>41</td>\n",
       "      <td>207</td>\n",
       "      <td>456</td>\n",
       "      <td>2043</td>\n",
       "    </tr>\n",
       "    <tr>\n",
       "      <th>6</th>\n",
       "      <td>brown sugar boba</td>\n",
       "      <td>981</td>\n",
       "      <td>380</td>\n",
       "      <td>154</td>\n",
       "      <td>14</td>\n",
       "      <td>147</td>\n",
       "      <td>15</td>\n",
       "      <td>98</td>\n",
       "      <td>33</td>\n",
       "      <td>23</td>\n",
       "      <td>36</td>\n",
       "      <td>552</td>\n",
       "      <td>633</td>\n",
       "      <td>3066</td>\n",
       "    </tr>\n",
       "    <tr>\n",
       "      <th>7</th>\n",
       "      <td>furits and nuts</td>\n",
       "      <td>478</td>\n",
       "      <td>462</td>\n",
       "      <td>354</td>\n",
       "      <td>49</td>\n",
       "      <td>89</td>\n",
       "      <td>0</td>\n",
       "      <td>1</td>\n",
       "      <td>0</td>\n",
       "      <td>1</td>\n",
       "      <td>8</td>\n",
       "      <td>335</td>\n",
       "      <td>214</td>\n",
       "      <td>1991</td>\n",
       "    </tr>\n",
       "    <tr>\n",
       "      <th>8</th>\n",
       "      <td>dark chocolate</td>\n",
       "      <td>598</td>\n",
       "      <td>203</td>\n",
       "      <td>36</td>\n",
       "      <td>96</td>\n",
       "      <td>789</td>\n",
       "      <td>4</td>\n",
       "      <td>5</td>\n",
       "      <td>0</td>\n",
       "      <td>8</td>\n",
       "      <td>0</td>\n",
       "      <td>789</td>\n",
       "      <td>458</td>\n",
       "      <td>1841</td>\n",
       "    </tr>\n",
       "    <tr>\n",
       "      <th>9</th>\n",
       "      <td>chocolate and orange</td>\n",
       "      <td>324</td>\n",
       "      <td>123</td>\n",
       "      <td>48</td>\n",
       "      <td>32</td>\n",
       "      <td>65</td>\n",
       "      <td>74</td>\n",
       "      <td>78</td>\n",
       "      <td>45</td>\n",
       "      <td>89</td>\n",
       "      <td>100</td>\n",
       "      <td>632</td>\n",
       "      <td>231</td>\n",
       "      <td>1841</td>\n",
       "    </tr>\n",
       "    <tr>\n",
       "      <th>10</th>\n",
       "      <td>choco mint</td>\n",
       "      <td>458</td>\n",
       "      <td>412</td>\n",
       "      <td>78</td>\n",
       "      <td>78</td>\n",
       "      <td>78</td>\n",
       "      <td>7</td>\n",
       "      <td>3</td>\n",
       "      <td>8</td>\n",
       "      <td>2</td>\n",
       "      <td>1</td>\n",
       "      <td>323</td>\n",
       "      <td>564</td>\n",
       "      <td>2012</td>\n",
       "    </tr>\n",
       "    <tr>\n",
       "      <th>11</th>\n",
       "      <td>choco butter naught</td>\n",
       "      <td>778</td>\n",
       "      <td>586</td>\n",
       "      <td>645</td>\n",
       "      <td>100</td>\n",
       "      <td>987</td>\n",
       "      <td>63</td>\n",
       "      <td>36</td>\n",
       "      <td>89</td>\n",
       "      <td>78</td>\n",
       "      <td>99</td>\n",
       "      <td>784</td>\n",
       "      <td>2310</td>\n",
       "      <td>6555</td>\n",
       "    </tr>\n",
       "  </tbody>\n",
       "</table>\n",
       "</div>"
      ],
      "text/plain": [
       "                  flavor  january  february  march  april  may  june  july  \\\n",
       "0             red velvet      781       524    364    157  894    56    89   \n",
       "1                   oreo      210       324    344     32  123     1     3   \n",
       "2           sugar glazed      599       674    854     14  467    78    36   \n",
       "3           almond honey      124       112    114     23  198    12    32   \n",
       "4                 matcha      645       498    885     98  177    98    43   \n",
       "5       strawberry cream      210       372    369     78  163    26    45   \n",
       "6       brown sugar boba      981       380    154     14  147    15    98   \n",
       "7        furits and nuts      478       462    354     49   89     0     1   \n",
       "8         dark chocolate      598       203     36     96  789     4     5   \n",
       "9   chocolate and orange      324       123     48     32   65    74    78   \n",
       "10            choco mint      458       412     78     78   78     7     3   \n",
       "11   choco butter naught      778       586    645    100  987    63    36   \n",
       "\n",
       "    august  september  october  november  december  Total_Sales  \n",
       "0       41         23       78       231       899         4137  \n",
       "1        0          1        6       312       548         1904  \n",
       "2       48         75       98       781      1602         5326  \n",
       "3       41         23       36       300       566         1581  \n",
       "4       96         26       71       549       897         4083  \n",
       "5       22         54       41       207       456         2043  \n",
       "6       33         23       36       552       633         3066  \n",
       "7        0          1        8       335       214         1991  \n",
       "8        0          8        0       789       458         1841  \n",
       "9       45         89      100       632       231         1841  \n",
       "10       8          2        1       323       564         2012  \n",
       "11      89         78       99       784      2310         6555  "
      ]
     },
     "execution_count": 14,
     "metadata": {},
     "output_type": "execute_result"
    }
   ],
   "source": [
    "#new data frame with total sales of each flavor\n",
    "\n",
    "df_sales['Total_Sales']=[sales_mat.sum(axis=1)[0],sales_mat.sum(axis=1)[1],sales_mat.sum(axis=1)[2]\n",
    ",sales_mat.sum(axis=1)[3],sales_mat.sum(axis=1)[4],sales_mat.sum(axis=1)[5],sales_mat.sum(axis=1)[6]\n",
    ",sales_mat.sum(axis=1)[7],sales_mat.sum(axis=1)[9],sales_mat.sum(axis=1)[9],sales_mat.sum(axis=1)[10]\n",
    ",sales_mat.sum(axis=1)[11]]\n",
    "\n",
    "df_sales"
   ]
  },
  {
   "cell_type": "code",
   "execution_count": 15,
   "metadata": {},
   "outputs": [
    {
     "data": {
      "text/html": [
       "<div>\n",
       "<style scoped>\n",
       "    .dataframe tbody tr th:only-of-type {\n",
       "        vertical-align: middle;\n",
       "    }\n",
       "\n",
       "    .dataframe tbody tr th {\n",
       "        vertical-align: top;\n",
       "    }\n",
       "\n",
       "    .dataframe thead th {\n",
       "        text-align: right;\n",
       "    }\n",
       "</style>\n",
       "<table border=\"1\" class=\"dataframe\">\n",
       "  <thead>\n",
       "    <tr style=\"text-align: right;\">\n",
       "      <th></th>\n",
       "      <th>month</th>\n",
       "      <th>sales</th>\n",
       "    </tr>\n",
       "  </thead>\n",
       "  <tbody>\n",
       "    <tr>\n",
       "      <th>0</th>\n",
       "      <td>january</td>\n",
       "      <td>6186</td>\n",
       "    </tr>\n",
       "    <tr>\n",
       "      <th>1</th>\n",
       "      <td>february</td>\n",
       "      <td>4670</td>\n",
       "    </tr>\n",
       "    <tr>\n",
       "      <th>2</th>\n",
       "      <td>march</td>\n",
       "      <td>4245</td>\n",
       "    </tr>\n",
       "    <tr>\n",
       "      <th>3</th>\n",
       "      <td>april</td>\n",
       "      <td>771</td>\n",
       "    </tr>\n",
       "    <tr>\n",
       "      <th>4</th>\n",
       "      <td>may</td>\n",
       "      <td>4177</td>\n",
       "    </tr>\n",
       "    <tr>\n",
       "      <th>5</th>\n",
       "      <td>june</td>\n",
       "      <td>434</td>\n",
       "    </tr>\n",
       "    <tr>\n",
       "      <th>6</th>\n",
       "      <td>july</td>\n",
       "      <td>469</td>\n",
       "    </tr>\n",
       "    <tr>\n",
       "      <th>7</th>\n",
       "      <td>august</td>\n",
       "      <td>423</td>\n",
       "    </tr>\n",
       "    <tr>\n",
       "      <th>8</th>\n",
       "      <td>september</td>\n",
       "      <td>403</td>\n",
       "    </tr>\n",
       "    <tr>\n",
       "      <th>9</th>\n",
       "      <td>october</td>\n",
       "      <td>574</td>\n",
       "    </tr>\n",
       "    <tr>\n",
       "      <th>10</th>\n",
       "      <td>november</td>\n",
       "      <td>5795</td>\n",
       "    </tr>\n",
       "    <tr>\n",
       "      <th>11</th>\n",
       "      <td>december</td>\n",
       "      <td>9378</td>\n",
       "    </tr>\n",
       "  </tbody>\n",
       "</table>\n",
       "</div>"
      ],
      "text/plain": [
       "        month  sales\n",
       "0     january   6186\n",
       "1    february   4670\n",
       "2       march   4245\n",
       "3       april    771\n",
       "4         may   4177\n",
       "5        june    434\n",
       "6        july    469\n",
       "7      august    423\n",
       "8   september    403\n",
       "9     october    574\n",
       "10   november   5795\n",
       "11   december   9378"
      ]
     },
     "execution_count": 15,
     "metadata": {},
     "output_type": "execute_result"
    }
   ],
   "source": [
    "##new data frame for monthly sales\n",
    "monthly_sale=sales_mat\n",
    "\n",
    "monthly_sale={'month':['january','february','march','april','may','june',\n",
    "                       'july','august','september','october','november','december']\n",
    "              ,'sales':[df_sales.sum(axis=0)[1],df_sales.sum(axis=0)[2],df_sales.sum(axis=0)[3],\n",
    "                        df_sales.sum(axis=0)[4],df_sales.sum(axis=0)[5],df_sales.sum(axis=0)[6],\n",
    "                        df_sales.sum(axis=0)[7],df_sales.sum(axis=0)[8],df_sales.sum(axis=0)[9],\n",
    "                        df_sales.sum(axis=0)[10],df_sales.sum(axis=0)[11],df_sales.sum(axis=0)[12]]}\n",
    "\n",
    "pd.DataFrame(data=monthly_sale)"
   ]
  },
  {
   "cell_type": "code",
   "execution_count": 16,
   "metadata": {},
   "outputs": [
    {
     "data": {
      "text/html": [
       "<div>\n",
       "<style scoped>\n",
       "    .dataframe tbody tr th:only-of-type {\n",
       "        vertical-align: middle;\n",
       "    }\n",
       "\n",
       "    .dataframe tbody tr th {\n",
       "        vertical-align: top;\n",
       "    }\n",
       "\n",
       "    .dataframe thead th {\n",
       "        text-align: right;\n",
       "    }\n",
       "</style>\n",
       "<table border=\"1\" class=\"dataframe\">\n",
       "  <thead>\n",
       "    <tr style=\"text-align: right;\">\n",
       "      <th></th>\n",
       "      <th>top 3 flavor</th>\n",
       "      <th>sales</th>\n",
       "    </tr>\n",
       "  </thead>\n",
       "  <tbody>\n",
       "    <tr>\n",
       "      <th>0</th>\n",
       "      <td>choco butter naught</td>\n",
       "      <td>6555</td>\n",
       "    </tr>\n",
       "    <tr>\n",
       "      <th>1</th>\n",
       "      <td>sugar glazed</td>\n",
       "      <td>5326</td>\n",
       "    </tr>\n",
       "    <tr>\n",
       "      <th>2</th>\n",
       "      <td>red velvet</td>\n",
       "      <td>4137</td>\n",
       "    </tr>\n",
       "  </tbody>\n",
       "</table>\n",
       "</div>"
      ],
      "text/plain": [
       "          top 3 flavor  sales\n",
       "0  choco butter naught   6555\n",
       "1         sugar glazed   5326\n",
       "2           red velvet   4137"
      ]
     },
     "execution_count": 16,
     "metadata": {},
     "output_type": "execute_result"
    }
   ],
   "source": [
    "#sort function \n",
    "sorted_flavor=sorted(df_sales.Total_Sales, reverse=True)\n",
    "\n",
    "#best flavors\n",
    "best_3_flavor={'top 3 flavor':['choco butter naught','sugar glazed','red velvet'],\n",
    "             'sales':[sorted_flavor[0],sorted_flavor[1],sorted_flavor[2]]}\n",
    "\n",
    "pd.DataFrame(data=best_3_flavor)"
   ]
  },
  {
   "cell_type": "code",
   "execution_count": 17,
   "metadata": {},
   "outputs": [
    {
     "data": {
      "text/html": [
       "<div>\n",
       "<style scoped>\n",
       "    .dataframe tbody tr th:only-of-type {\n",
       "        vertical-align: middle;\n",
       "    }\n",
       "\n",
       "    .dataframe tbody tr th {\n",
       "        vertical-align: top;\n",
       "    }\n",
       "\n",
       "    .dataframe thead th {\n",
       "        text-align: right;\n",
       "    }\n",
       "</style>\n",
       "<table border=\"1\" class=\"dataframe\">\n",
       "  <thead>\n",
       "    <tr style=\"text-align: right;\">\n",
       "      <th></th>\n",
       "      <th>least 3 flavor</th>\n",
       "      <th>sales</th>\n",
       "    </tr>\n",
       "  </thead>\n",
       "  <tbody>\n",
       "    <tr>\n",
       "      <th>0</th>\n",
       "      <td>dark chocolate</td>\n",
       "      <td>1841</td>\n",
       "    </tr>\n",
       "    <tr>\n",
       "      <th>1</th>\n",
       "      <td>chocolate and orange</td>\n",
       "      <td>1841</td>\n",
       "    </tr>\n",
       "    <tr>\n",
       "      <th>2</th>\n",
       "      <td>almond hnoey</td>\n",
       "      <td>1581</td>\n",
       "    </tr>\n",
       "  </tbody>\n",
       "</table>\n",
       "</div>"
      ],
      "text/plain": [
       "         least 3 flavor  sales\n",
       "0        dark chocolate   1841\n",
       "1  chocolate and orange   1841\n",
       "2          almond hnoey   1581"
      ]
     },
     "execution_count": 17,
     "metadata": {},
     "output_type": "execute_result"
    }
   ],
   "source": [
    "#worst flavor\n",
    "worst_3_flavor={'least 3 flavor':['dark chocolate','chocolate and orange','almond hnoey']\n",
    "              ,'sales':[sorted_flavor[9],sorted_flavor[10],sorted_flavor[11]]}\n",
    "\n",
    "pd.DataFrame(data=worst_3_flavor)"
   ]
  },
  {
   "cell_type": "markdown",
   "metadata": {},
   "source": [
    "## Part 3: Visualizing the Data \n"
   ]
  },
  {
   "cell_type": "markdown",
   "metadata": {},
   "source": [
    "#### Entire Dataset"
   ]
  },
  {
   "cell_type": "code",
   "execution_count": 20,
   "metadata": {},
   "outputs": [
    {
     "data": {
      "text/plain": [
       "<matplotlib.axes._subplots.AxesSubplot at 0x2a192bc0880>"
      ]
     },
     "execution_count": 20,
     "metadata": {},
     "output_type": "execute_result"
    },
    {
     "data": {
      "image/png": "[encoded data removed]",
      "text/plain": [
       "<Figure size 1296x648 with 1 Axes>"
      ]
     },
     "metadata": {},
     "output_type": "display_data"
    },
    {
     "data": {
      "image/png": "[encoded data removed]",
      "text/plain": [
       "<Figure size 1296x648 with 1 Axes>"
      ]
     },
     "metadata": {},
     "output_type": "display_data"
    }
   ],
   "source": [
    "sns.set(rc={'figure.figsize':(18,9)})\n",
    "df_prices.plot(kind='bar',x='Unnamed: 0')\n",
    "df_sales.plot(kind='bar',x='flavor')"
   ]
  },
  {
   "cell_type": "markdown",
   "metadata": {},
   "source": [
    "#### Monthly Sales"
   ]
  },
  {
   "cell_type": "code",
   "execution_count": 24,
   "metadata": {},
   "outputs": [
    {
     "data": {
      "text/plain": [
       "<matplotlib.axes._subplots.AxesSubplot at 0x2a192d4cb50>"
      ]
     },
     "execution_count": 24,
     "metadata": {},
     "output_type": "execute_result"
    },
    {
     "data": {
      "image/png": "[encoded data removed]",
      "text/plain": [
       "<Figure size 1440x720 with 1 Axes>"
      ]
     },
     "metadata": {},
     "output_type": "display_data"
    }
   ],
   "source": [
    "sns.set(rc={'figure.figsize':(20,10)})\n",
    "sns.barplot(\"month\",\"sales\", data=monthly_sale)"
   ]
  },
  {
   "cell_type": "markdown",
   "metadata": {},
   "source": [
    "#### Flavor Sales"
   ]
  },
  {
   "cell_type": "code",
   "execution_count": 25,
   "metadata": {},
   "outputs": [
    {
     "data": {
      "text/plain": [
       "<matplotlib.axes._subplots.AxesSubplot at 0x2a193121130>"
      ]
     },
     "execution_count": 25,
     "metadata": {},
     "output_type": "execute_result"
    },
    {
     "data": {
      "image/png": "[encoded data removed]",
      "text/plain": [
       "<Figure size 1440x720 with 1 Axes>"
      ]
     },
     "metadata": {},
     "output_type": "display_data"
    }
   ],
   "source": [
    "sns.set(rc={'figure.figsize':(20,10)})\n",
    "sns.barplot(\"flavor\",\"Total_Sales\",data=df_sales)"
   ]
  },
  {
   "cell_type": "markdown",
   "metadata": {},
   "source": [
    "## Part 4: Business Recommendation and Conclusion\n"
   ]
  },
  {
   "cell_type": "markdown",
   "metadata": {},
   "source": [
    "The recommendations for bebang's business is she needs to improve her sales in the month of april, june, july, august, september, and october because as you can see in the monthly sales graph this months are the lowest and needs to be improve. To improve bebang's sales she needs to reduce the number of products she sells on the month with low sales and bebang needs to think new idea's or new products to launch in this months with low sales like she need to create promos or discounts, and bebang needs to use the social media for more customers."
   ]
  },
  {
   "cell_type": "code",
   "execution_count": null,
   "metadata": {},
   "outputs": [],
   "source": []
  }
 ],
 "metadata": {
  "kernelspec": {
   "display_name": "Python 3",
   "language": "python",
   "name": "python3"
  },
  "language_info": {
   "codemirror_mode": {
    "name": "ipython",
    "version": 3
   },
   "file_extension": ".py",
   "mimetype": "text/x-python",
   "name": "python",
   "nbconvert_exporter": "python",
   "pygments_lexer": "ipython3",
   "version": "3.8.3"
  }
 },
 "nbformat": 4,
 "nbformat_minor": 4
}
