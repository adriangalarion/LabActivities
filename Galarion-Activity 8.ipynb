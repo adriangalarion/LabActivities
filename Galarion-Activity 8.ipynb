{
 "cells": [
  {
   "cell_type": "code",
   "execution_count": 2,
   "metadata": {},
   "outputs": [],
   "source": [
    "import numpy as np\n",
    "import matplotlib.pyplot as plt\n",
    "%matplotlib inline"
   ]
  },
  {
   "cell_type": "code",
   "execution_count": 3,
   "metadata": {},
   "outputs": [
    {
     "name": "stdout",
     "output_type": "stream",
     "text": [
      "[[ 0.91891892]\n",
      " [ 0.67567568]\n",
      " [-0.10810811]]\n"
     ]
    }
   ],
   "source": [
    "G = np.array([\n",
    "    [2,5,2],\n",
    "    [3,1,4],\n",
    "    [2,4,5]\n",
    "])\n",
    "\n",
    "T = np.array([\n",
    "    [5],\n",
    "    [3],\n",
    "    [4]\n",
    "])\n",
    "\n",
    "G_inv = np.linalg.inv(G)\n",
    "print(G_inv @ T)"
   ]
  },
  {
   "cell_type": "code",
   "execution_count": 4,
   "metadata": {},
   "outputs": [
    {
     "name": "stdout",
     "output_type": "stream",
     "text": [
      "[[ 0.91891892]\n",
      " [ 0.67567568]\n",
      " [-0.10810811]]\n"
     ]
    }
   ],
   "source": [
    "G_inv1 = np.linalg.solve(G, T)\n",
    "print(G_inv1)"
   ]
  },
  {
   "cell_type": "code",
   "execution_count": 5,
   "metadata": {},
   "outputs": [
    {
     "name": "stdout",
     "output_type": "stream",
     "text": [
      "[[-3.]\n",
      " [ 4.]\n",
      " [ 0.]]\n"
     ]
    }
   ],
   "source": [
    "A = np.array([\n",
    "    [1,2,2],\n",
    "    [5,5,3],\n",
    "    [1,2,3]\n",
    "])\n",
    "\n",
    "B = np.array([\n",
    "    [5],\n",
    "    [5],\n",
    "    [5]\n",
    "])\n",
    "\n",
    "A_inv = np.linalg.inv(A)\n",
    "print(A_inv @ B)"
   ]
  },
  {
   "cell_type": "code",
   "execution_count": 6,
   "metadata": {},
   "outputs": [
    {
     "name": "stdout",
     "output_type": "stream",
     "text": [
      "[[-3.]\n",
      " [ 4.]\n",
      " [ 0.]]\n"
     ]
    }
   ],
   "source": [
    "A_inv1 = np.linalg.solve(A, B)\n",
    "print(A_inv1)"
   ]
  },
  {
   "cell_type": "code",
   "execution_count": null,
   "metadata": {},
   "outputs": [],
   "source": []
  }
 ],
 "metadata": {
  "kernelspec": {
   "display_name": "Python 3",
   "language": "python",
   "name": "python3"
  },
  "language_info": {
   "codemirror_mode": {
    "name": "ipython",
    "version": 3
   },
   "file_extension": ".py",
   "mimetype": "text/x-python",
   "name": "python",
   "nbconvert_exporter": "python",
   "pygments_lexer": "ipython3",
   "version": "3.8.3"
  }
 },
 "nbformat": 4,
 "nbformat_minor": 4
}
