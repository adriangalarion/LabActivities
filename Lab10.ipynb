{
 "cells": [
  {
   "cell_type": "markdown",
   "metadata": {},
   "source": [
    "## Supplementary Activity\n",
    "## Try to implement the linear transformations using spancs using the scatteplot view. Just do at least one example of linear transformation for a 2D space."
   ]
  },
  {
   "cell_type": "code",
   "execution_count": 2,
   "metadata": {},
   "outputs": [],
   "source": [
    "import numpy as np\n",
    "import matplotlib.pyplot as plt\n",
    "%matplotlib inline"
   ]
  },
  {
   "cell_type": "code",
   "execution_count": 9,
   "metadata": {},
   "outputs": [
    {
     "data": {
      "image/png": "[encoded data removed]",
      "text/plain": [
       "<Figure size 432x288 with 1 Axes>"
      ]
     },
     "metadata": {
      "needs_background": "light"
     },
     "output_type": "display_data"
    }
   ],
   "source": [
    "AG = np.array([\n",
    "    [4,0],\n",
    "    [0,6]\n",
    "])\n",
    "\n",
    "X = np.arange(0,1,0.2)\n",
    "\n",
    "plt.scatter(X*AG[0,0],X*AG[1,0], color = \"yellow\")\n",
    "plt.scatter(X*AG[0,1],X*AG[1,1], color = \"black\")\n",
    "\n",
    "plt.xlim(-1,5)\n",
    "plt.ylim(-1,5)\n",
    "plt.grid()\n",
    "plt.show()"
   ]
  },
  {
   "cell_type": "code",
   "execution_count": 13,
   "metadata": {},
   "outputs": [
    {
     "data": {
      "image/png": "[encoded data removed]",
      "text/plain": [
       "<Figure size 432x288 with 1 Axes>"
      ]
     },
     "metadata": {
      "needs_background": "light"
     },
     "output_type": "display_data"
    }
   ],
   "source": [
    "XY = np.array([\n",
    "    [3,0],\n",
    "    [ 0,3]\n",
    "])\n",
    "\n",
    "A = np.arange(0,1,0.15)\n",
    "\n",
    "plt.scatter(A*XY[0,0],A*XY[1,0], color = \"yellow\")\n",
    "plt.scatter(A*XY[0,1],A*XY[1,1], color = \"black\")\n",
    "\n",
    "plt.xlim(-4,5)\n",
    "plt.ylim(-4,5)\n",
    "plt.grid()\n",
    "plt.show()"
   ]
  },
  {
   "cell_type": "code",
   "execution_count": null,
   "metadata": {},
   "outputs": [],
   "source": []
  }
 ],
 "metadata": {
  "kernelspec": {
   "display_name": "Python 3",
   "language": "python",
   "name": "python3"
  },
  "language_info": {
   "codemirror_mode": {
    "name": "ipython",
    "version": 3
   },
   "file_extension": ".py",
   "mimetype": "text/x-python",
   "name": "python",
   "nbconvert_exporter": "python",
   "pygments_lexer": "ipython3",
   "version": "3.8.3"
  }
 },
 "nbformat": 4,
 "nbformat_minor": 4
}
